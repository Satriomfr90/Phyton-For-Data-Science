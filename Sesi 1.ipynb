{
 "cells": [
  {
   "cell_type": "markdown",
   "id": "e4214ada",
   "metadata": {},
   "source": [
    "# Integer = Bilangan Bulat"
   ]
  },
  {
   "cell_type": "code",
   "execution_count": 1,
   "id": "79062a0a",
   "metadata": {},
   "outputs": [
    {
     "name": "stdout",
     "output_type": "stream",
     "text": [
      "1000000000000\n"
     ]
    }
   ],
   "source": [
    "print(1000000000000)"
   ]
  },
  {
   "cell_type": "code",
   "execution_count": 2,
   "id": "3182cc6d",
   "metadata": {},
   "outputs": [
    {
     "name": "stdout",
     "output_type": "stream",
     "text": [
      "<class 'int'>\n"
     ]
    }
   ],
   "source": [
    "print(type(3))"
   ]
  },
  {
   "cell_type": "markdown",
   "id": "7a6f1b70",
   "metadata": {},
   "source": [
    "# Float"
   ]
  },
  {
   "cell_type": "code",
   "execution_count": 3,
   "id": "2d6184cf",
   "metadata": {},
   "outputs": [
    {
     "name": "stdout",
     "output_type": "stream",
     "text": [
      "3.5\n",
      "2.3\n"
     ]
    }
   ],
   "source": [
    "print(3.5)\n",
    "print(2.3)"
   ]
  },
  {
   "cell_type": "code",
   "execution_count": 4,
   "id": "09a24d86",
   "metadata": {},
   "outputs": [
    {
     "name": "stdout",
     "output_type": "stream",
     "text": [
      "<class 'float'>\n"
     ]
    }
   ],
   "source": [
    "print(type(2.3))"
   ]
  },
  {
   "cell_type": "code",
   "execution_count": 5,
   "id": "17d36a83",
   "metadata": {},
   "outputs": [
    {
     "name": "stdout",
     "output_type": "stream",
     "text": [
      "0.00042\n"
     ]
    }
   ],
   "source": [
    "print(4.2e-4)"
   ]
  },
  {
   "cell_type": "code",
   "execution_count": 6,
   "id": "ffbd18a9",
   "metadata": {},
   "outputs": [
    {
     "name": "stdout",
     "output_type": "stream",
     "text": [
      "<class 'float'>\n"
     ]
    }
   ],
   "source": [
    "print(type(4.2e7))"
   ]
  },
  {
   "cell_type": "markdown",
   "id": "750d2616",
   "metadata": {},
   "source": [
    "# String"
   ]
  },
  {
   "cell_type": "code",
   "execution_count": 7,
   "id": "395a1a0c",
   "metadata": {},
   "outputs": [
    {
     "name": "stdout",
     "output_type": "stream",
     "text": [
      "Nama Saya adalah Fachri\n"
     ]
    }
   ],
   "source": [
    "print(\"Nama Saya adalah Fachri\")"
   ]
  },
  {
   "cell_type": "code",
   "execution_count": 8,
   "id": "27a29cd6",
   "metadata": {},
   "outputs": [
    {
     "name": "stdout",
     "output_type": "stream",
     "text": [
      "Budi bermain bola\n"
     ]
    }
   ],
   "source": [
    "print('Budi bermain bola')"
   ]
  },
  {
   "cell_type": "code",
   "execution_count": 9,
   "id": "bbe6f6bd",
   "metadata": {},
   "outputs": [
    {
     "name": "stdout",
     "output_type": "stream",
     "text": [
      "<class 'str'>\n"
     ]
    }
   ],
   "source": [
    "print(type('Budi bermain bola'))"
   ]
  },
  {
   "cell_type": "markdown",
   "id": "409ed198",
   "metadata": {},
   "source": [
    "# Boolean"
   ]
  },
  {
   "cell_type": "code",
   "execution_count": 10,
   "id": "f1d3ec2b",
   "metadata": {},
   "outputs": [
    {
     "data": {
      "text/plain": [
       "False"
      ]
     },
     "execution_count": 10,
     "metadata": {},
     "output_type": "execute_result"
    }
   ],
   "source": [
    "True\n",
    "False"
   ]
  },
  {
   "cell_type": "code",
   "execution_count": 11,
   "id": "4b01e46a",
   "metadata": {},
   "outputs": [
    {
     "name": "stdout",
     "output_type": "stream",
     "text": [
      "True\n"
     ]
    }
   ],
   "source": [
    "print(True)"
   ]
  },
  {
   "cell_type": "code",
   "execution_count": 12,
   "id": "8d1985dc",
   "metadata": {},
   "outputs": [
    {
     "name": "stdout",
     "output_type": "stream",
     "text": [
      "False\n"
     ]
    }
   ],
   "source": [
    "print(False)"
   ]
  },
  {
   "cell_type": "code",
   "execution_count": 13,
   "id": "a002ce96",
   "metadata": {},
   "outputs": [
    {
     "name": "stdout",
     "output_type": "stream",
     "text": [
      "<class 'bool'>\n"
     ]
    }
   ],
   "source": [
    "print(type(True))"
   ]
  },
  {
   "cell_type": "markdown",
   "id": "e2076d65",
   "metadata": {},
   "source": [
    "Ada 4 data types yang paling sering digunakan\"\n",
    "- Integer\n",
    "- Float\n",
    "- String\n",
    "- Boolean"
   ]
  },
  {
   "cell_type": "markdown",
   "id": "bf32afd5",
   "metadata": {},
   "source": [
    "# Variable Assignment"
   ]
  },
  {
   "cell_type": "code",
   "execution_count": 14,
   "id": "844f280f",
   "metadata": {},
   "outputs": [
    {
     "name": "stdout",
     "output_type": "stream",
     "text": [
      "300\n",
      "<class 'int'>\n",
      "<class 'int'>\n"
     ]
    }
   ],
   "source": [
    "angka = 300\n",
    "print(angka)\n",
    "print(type(angka))\n",
    "print(type(300))"
   ]
  },
  {
   "cell_type": "code",
   "execution_count": 15,
   "id": "e29e8d03",
   "metadata": {},
   "outputs": [
    {
     "name": "stdout",
     "output_type": "stream",
     "text": [
      "haha\n",
      "<class 'str'>\n"
     ]
    }
   ],
   "source": [
    "teks = 'haha'\n",
    "print(teks)\n",
    "print(type(teks))"
   ]
  },
  {
   "cell_type": "code",
   "execution_count": 16,
   "id": "e5e91dad",
   "metadata": {},
   "outputs": [
    {
     "name": "stdout",
     "output_type": "stream",
     "text": [
      "300 300 300\n"
     ]
    }
   ],
   "source": [
    "a = b = c = 300\n",
    "print(a,b,c)"
   ]
  },
  {
   "cell_type": "code",
   "execution_count": 17,
   "id": "e280ba7a",
   "metadata": {},
   "outputs": [
    {
     "name": "stdout",
     "output_type": "stream",
     "text": [
      "<class 'int'>\n"
     ]
    }
   ],
   "source": [
    "print(type(b))"
   ]
  },
  {
   "cell_type": "code",
   "execution_count": 19,
   "id": "d10ef6e1",
   "metadata": {},
   "outputs": [],
   "source": [
    "rumah = 'Bekasi'\n",
    "Rumah = 'Jakarta'"
   ]
  },
  {
   "cell_type": "code",
   "execution_count": 20,
   "id": "b85d501f",
   "metadata": {},
   "outputs": [
    {
     "name": "stdout",
     "output_type": "stream",
     "text": [
      "Bekasi Jakarta\n"
     ]
    }
   ],
   "source": [
    "print(rumah, Rumah)"
   ]
  },
  {
   "cell_type": "markdown",
   "id": "01ee6a21",
   "metadata": {},
   "source": [
    "ctrl + / untuk comment"
   ]
  },
  {
   "cell_type": "raw",
   "id": "357acb8f",
   "metadata": {},
   "source": [
    "# Nama variabel tidak diperbolehkan dimulai dengan angka\n",
    "# 0_Rumah='a'"
   ]
  },
  {
   "cell_type": "raw",
   "id": "014d9130",
   "metadata": {},
   "source": [
    "# rumah = 'budi'"
   ]
  },
  {
   "cell_type": "code",
   "execution_count": 21,
   "id": "d12c1fc9",
   "metadata": {},
   "outputs": [
    {
     "name": "stdout",
     "output_type": "stream",
     "text": [
      "Bekasi\n"
     ]
    }
   ],
   "source": [
    "print(rumah)"
   ]
  },
  {
   "cell_type": "markdown",
   "id": "094628f5",
   "metadata": {},
   "source": [
    "# Arithmetic Operators"
   ]
  },
  {
   "cell_type": "code",
   "execution_count": 22,
   "id": "375bcf99",
   "metadata": {},
   "outputs": [
    {
     "name": "stdout",
     "output_type": "stream",
     "text": [
      "30\n"
     ]
    }
   ],
   "source": [
    "a = 10\n",
    "b = 20\n",
    "print(a+b)"
   ]
  },
  {
   "cell_type": "code",
   "execution_count": 23,
   "id": "43ab1c6e",
   "metadata": {},
   "outputs": [
    {
     "name": "stdout",
     "output_type": "stream",
     "text": [
      "-10\n"
     ]
    }
   ],
   "source": [
    "# Pengurangan\n",
    "print(a-b)"
   ]
  },
  {
   "cell_type": "code",
   "execution_count": 24,
   "id": "c298d18c",
   "metadata": {},
   "outputs": [
    {
     "name": "stdout",
     "output_type": "stream",
     "text": [
      "200\n"
     ]
    }
   ],
   "source": [
    "# Perkalian\n",
    "print(a*b)"
   ]
  },
  {
   "cell_type": "code",
   "execution_count": 25,
   "id": "70737182",
   "metadata": {},
   "outputs": [
    {
     "name": "stdout",
     "output_type": "stream",
     "text": [
      "0.5\n",
      "0\n",
      "1.5\n",
      "1\n",
      "<class 'float'>\n",
      "<class 'int'>\n"
     ]
    }
   ],
   "source": [
    "# Pembagian\n",
    "print(a/b)\n",
    "print(a//b)\n",
    "print(3/2)\n",
    "print(3//2)\n",
    "print(type(3/2))\n",
    "print(type(3//2))\n"
   ]
  },
  {
   "cell_type": "code",
   "execution_count": 26,
   "id": "659676ed",
   "metadata": {},
   "outputs": [
    {
     "name": "stdout",
     "output_type": "stream",
     "text": [
      "3.5\n",
      "1\n",
      "1\n",
      "0\n"
     ]
    }
   ],
   "source": [
    "# Modulo (%)\n",
    "print(7/2)\n",
    "print(7%2)\n",
    "print(11%2)\n",
    "print(10%2)"
   ]
  },
  {
   "cell_type": "code",
   "execution_count": 27,
   "id": "fa709395",
   "metadata": {},
   "outputs": [
    {
     "name": "stdout",
     "output_type": "stream",
     "text": [
      "49\n",
      "4\n"
     ]
    }
   ],
   "source": [
    "# Pangkat (**)\n",
    "print(7**2)\n",
    "print(2**2)"
   ]
  },
  {
   "cell_type": "markdown",
   "id": "1b36b6d8",
   "metadata": {},
   "source": [
    "# Quiz 1 30 derajat celsius ke fahrenheit "
   ]
  },
  {
   "cell_type": "code",
   "execution_count": 28,
   "id": "b64e1f6a",
   "metadata": {},
   "outputs": [
    {
     "ename": "SyntaxError",
     "evalue": "invalid syntax (1958762358.py, line 1)",
     "output_type": "error",
     "traceback": [
      "\u001b[1;36m  File \u001b[1;32m\"C:\\Users\\satri\\AppData\\Local\\Temp\\ipykernel_17480\\1958762358.py\"\u001b[1;36m, line \u001b[1;32m1\u001b[0m\n\u001b[1;33m    c =\u001b[0m\n\u001b[1;37m        ^\u001b[0m\n\u001b[1;31mSyntaxError\u001b[0m\u001b[1;31m:\u001b[0m invalid syntax\n"
     ]
    }
   ],
   "source": [
    "c = 30\n",
    "f = c *\n",
    "print(f)"
   ]
  },
  {
   "cell_type": "markdown",
   "id": "88cbadcc",
   "metadata": {},
   "source": [
    "# Comparison Operators"
   ]
  },
  {
   "cell_type": "code",
   "execution_count": 29,
   "id": "384e0b9a",
   "metadata": {},
   "outputs": [],
   "source": [
    "c = 10\n",
    "d = 30\n",
    "e = 10\n",
    "f = 20"
   ]
  },
  {
   "cell_type": "code",
   "execution_count": 30,
   "id": "af5c9181",
   "metadata": {},
   "outputs": [],
   "source": [
    "rumah1= 'bekasi'\n",
    "rumah2 = 'jakarta'\n",
    "rumah3='jakarta'"
   ]
  },
  {
   "cell_type": "code",
   "execution_count": 31,
   "id": "9332d7b7",
   "metadata": {},
   "outputs": [
    {
     "name": "stdout",
     "output_type": "stream",
     "text": [
      "False\n",
      "True\n",
      "True\n"
     ]
    }
   ],
   "source": [
    "# Persamaan (==)\n",
    "print(c==d)\n",
    "print(c==e)\n",
    "print(rumah2==rumah3)"
   ]
  },
  {
   "cell_type": "code",
   "execution_count": 32,
   "id": "0f54fbf2",
   "metadata": {},
   "outputs": [
    {
     "name": "stdout",
     "output_type": "stream",
     "text": [
      "False\n",
      "True\n",
      "False\n",
      "True\n",
      "True\n",
      "True\n"
     ]
    }
   ],
   "source": [
    "# Lebih dari atau kurang dari\n",
    "print(c>d)\n",
    "print(c<d)\n",
    "print(c>=d)\n",
    "print(c<=d)\n",
    "print(c<=e)\n",
    "print(c>=e)"
   ]
  },
  {
   "cell_type": "code",
   "execution_count": 33,
   "id": "2de298bb",
   "metadata": {},
   "outputs": [
    {
     "name": "stdout",
     "output_type": "stream",
     "text": [
      "True\n",
      "False\n",
      "True\n"
     ]
    }
   ],
   "source": [
    "# TIdak sama dengan / Not Equal (!=)\n",
    "print(c!=d)\n",
    "print(c!=e)\n",
    "print(rumah1!=rumah2)"
   ]
  },
  {
   "cell_type": "markdown",
   "id": "efae31c5",
   "metadata": {},
   "source": [
    "# String Manipulation"
   ]
  },
  {
   "cell_type": "code",
   "execution_count": 34,
   "id": "b10abb53",
   "metadata": {},
   "outputs": [
    {
     "name": "stdout",
     "output_type": "stream",
     "text": [
      "barfoo\n",
      "foobarbaz\n"
     ]
    }
   ],
   "source": [
    "# Operator +\n",
    "s = 'foo'\n",
    "t = 'bar'\n",
    "u = 'baz'\n",
    "\n",
    "print(t+s)\n",
    "\n",
    "print(s+t+u)"
   ]
  },
  {
   "cell_type": "code",
   "execution_count": 35,
   "id": "fca75dc5",
   "metadata": {},
   "outputs": [
    {
     "name": "stdout",
     "output_type": "stream",
     "text": [
      "foofoofoofoofoofoofoofoofoofoo\n"
     ]
    }
   ],
   "source": [
    "# Operator *\n",
    "print(s*10)"
   ]
  },
  {
   "cell_type": "code",
   "execution_count": 36,
   "id": "b4f9cdec",
   "metadata": {},
   "outputs": [
    {
     "name": "stdout",
     "output_type": "stream",
     "text": [
      "True\n",
      "False\n"
     ]
    }
   ],
   "source": [
    "# Operator in\n",
    "a='buah'\n",
    "print(a in 'Saya mau beli buah')\n",
    "print(a in 'Saya mau beli singkong')"
   ]
  },
  {
   "cell_type": "code",
   "execution_count": 37,
   "id": "5d344074",
   "metadata": {},
   "outputs": [
    {
     "name": "stdout",
     "output_type": "stream",
     "text": [
      "BUAH\n"
     ]
    }
   ],
   "source": [
    "# upper\n",
    "a = 'buah'\n",
    "print(a.upper())"
   ]
  },
  {
   "cell_type": "code",
   "execution_count": 38,
   "id": "ccdc8dd4",
   "metadata": {},
   "outputs": [
    {
     "name": "stdout",
     "output_type": "stream",
     "text": [
      "buah\n"
     ]
    }
   ],
   "source": [
    "b = 'BUAH'\n",
    "print(b.lower())"
   ]
  },
  {
   "cell_type": "code",
   "execution_count": 39,
   "id": "7d6c8c37",
   "metadata": {},
   "outputs": [
    {
     "name": "stdout",
     "output_type": "stream",
     "text": [
      "Sayac\n"
     ]
    }
   ],
   "source": [
    "c = 'sAyAc'\n",
    "print(c.capitalize())"
   ]
  },
  {
   "cell_type": "code",
   "execution_count": 40,
   "id": "29a39739",
   "metadata": {},
   "outputs": [
    {
     "name": "stdout",
     "output_type": "stream",
     "text": [
      "Saya mau makan\n",
      "Saya Mau Makan\n",
      "saYA MaU mAKAN\n"
     ]
    }
   ],
   "source": [
    "d = 'SAya mAu Makan'\n",
    "print(d.capitalize())\n",
    "print(d.title())\n",
    "print(d.swapcase())\n"
   ]
  },
  {
   "cell_type": "markdown",
   "id": "5e4b1031",
   "metadata": {},
   "source": [
    "# Python Lists"
   ]
  },
  {
   "cell_type": "code",
   "execution_count": 41,
   "id": "ec4ef12f",
   "metadata": {},
   "outputs": [],
   "source": [
    "a = ['saya','mau','makan']\n",
    "c = ['makan','mau','saya']"
   ]
  },
  {
   "cell_type": "code",
   "execution_count": 42,
   "id": "260533c9",
   "metadata": {},
   "outputs": [
    {
     "name": "stdout",
     "output_type": "stream",
     "text": [
      "['saya', 'mau', 'makan']\n"
     ]
    }
   ],
   "source": [
    "print(a)"
   ]
  },
  {
   "cell_type": "code",
   "execution_count": 43,
   "id": "41a19851",
   "metadata": {},
   "outputs": [
    {
     "name": "stdout",
     "output_type": "stream",
     "text": [
      "['saya', 1, True, 3.7]\n"
     ]
    }
   ],
   "source": [
    "b = ['saya',1,True,3.7]\n",
    "print(b)\n"
   ]
  },
  {
   "cell_type": "code",
   "execution_count": 44,
   "id": "ab5c3ac5",
   "metadata": {},
   "outputs": [
    {
     "name": "stdout",
     "output_type": "stream",
     "text": [
      "False\n"
     ]
    }
   ],
   "source": [
    "print(a==c)"
   ]
  },
  {
   "cell_type": "markdown",
   "id": "2be09ae7",
   "metadata": {},
   "source": [
    "# Indexing dan Slicing"
   ]
  },
  {
   "cell_type": "code",
   "execution_count": 45,
   "id": "6a752297",
   "metadata": {},
   "outputs": [
    {
     "name": "stdout",
     "output_type": "stream",
     "text": [
      "['foo', 'bar', 'baz', 'qux', 'quux', 'corge']\n"
     ]
    }
   ],
   "source": [
    "# List can be accessed by Index\n",
    "a = ['foo','bar','baz','qux','quux','corge']\n",
    "print(a)"
   ]
  },
  {
   "cell_type": "code",
   "execution_count": 46,
   "id": "84806141",
   "metadata": {},
   "outputs": [
    {
     "name": "stdout",
     "output_type": "stream",
     "text": [
      "foo\n",
      "qux\n"
     ]
    }
   ],
   "source": [
    "# Indexing\n",
    "print(a[0])\n",
    "print(a[3])"
   ]
  },
  {
   "cell_type": "code",
   "execution_count": 47,
   "id": "a24e9779",
   "metadata": {},
   "outputs": [
    {
     "name": "stdout",
     "output_type": "stream",
     "text": [
      "foo\n"
     ]
    }
   ],
   "source": [
    "print(a[-6])"
   ]
  },
  {
   "cell_type": "code",
   "execution_count": 48,
   "id": "bfb78915",
   "metadata": {},
   "outputs": [
    {
     "name": "stdout",
     "output_type": "stream",
     "text": [
      "True\n"
     ]
    }
   ],
   "source": [
    "print(a[-6]==a[0])"
   ]
  },
  {
   "cell_type": "code",
   "execution_count": 49,
   "id": "c996fe77",
   "metadata": {},
   "outputs": [
    {
     "name": "stdout",
     "output_type": "stream",
     "text": [
      "i\n"
     ]
    }
   ],
   "source": [
    "x = 'budi'\n",
    "print(x[-1])"
   ]
  },
  {
   "cell_type": "markdown",
   "id": "33236d16",
   "metadata": {},
   "source": [
    "# Prinsip Slicing = [start:stop:step]"
   ]
  },
  {
   "cell_type": "code",
   "execution_count": 50,
   "id": "8cd8c1c4",
   "metadata": {},
   "outputs": [
    {
     "name": "stdout",
     "output_type": "stream",
     "text": [
      "['foo', 'bar', 'baz', 'qux', 'quux', 'corge']\n",
      "['bar', 'baz', 'qux', 'quux', 'corge']\n"
     ]
    }
   ],
   "source": [
    "# Slicing\n",
    "a = ['foo','bar','baz','qux','quux','corge']\n",
    "print(a[0:6])\n",
    "print(a[1:])"
   ]
  },
  {
   "cell_type": "code",
   "execution_count": 51,
   "id": "bd1a8b48",
   "metadata": {},
   "outputs": [
    {
     "name": "stdout",
     "output_type": "stream",
     "text": [
      "ud\n",
      "udi\n"
     ]
    }
   ],
   "source": [
    "x = 'budi'\n",
    "print(x[1:3])\n",
    "print(x[1:])"
   ]
  },
  {
   "cell_type": "code",
   "execution_count": 52,
   "id": "04f115a7",
   "metadata": {},
   "outputs": [
    {
     "name": "stdout",
     "output_type": "stream",
     "text": [
      "aragenayruS rikgniT akaJ\n"
     ]
    }
   ],
   "source": [
    "y = 'Jaka Tingkir Suryanegara'\n",
    "print(y[::-1])"
   ]
  },
  {
   "cell_type": "markdown",
   "id": "06181fbe",
   "metadata": {},
   "source": [
    "# QUIZ 2"
   ]
  },
  {
   "cell_type": "markdown",
   "id": "b6aff84f",
   "metadata": {},
   "source": [
    "a = komitmen"
   ]
  },
  {
   "cell_type": "code",
   "execution_count": 54,
   "id": "5090dcea",
   "metadata": {},
   "outputs": [
    {
     "name": "stdout",
     "output_type": "stream",
     "text": [
      "i\n",
      "omi\n",
      "tmen\n",
      "kmte\n",
      "kmtn\n"
     ]
    }
   ],
   "source": [
    "str = 'komitmen'\n",
    "print(str[3])\n",
    "print(str[1:4])\n",
    "print(str[4:])\n",
    "print(str[::2])\n",
    "print(str[0]+str[2]+str[4]+str[7])"
   ]
  },
  {
   "cell_type": "code",
   "execution_count": 56,
   "id": "a742c12f",
   "metadata": {},
   "outputs": [
    {
     "ename": "ValueError",
     "evalue": "'n' is not in list",
     "output_type": "error",
     "traceback": [
      "\u001b[1;31m---------------------------------------------------------------------------\u001b[0m",
      "\u001b[1;31mValueError\u001b[0m                                Traceback (most recent call last)",
      "\u001b[1;32m~\\AppData\\Local\\Temp\\ipykernel_17480\\759276296.py\u001b[0m in \u001b[0;36m<module>\u001b[1;34m\u001b[0m\n\u001b[1;32m----> 1\u001b[1;33m \u001b[0mprint\u001b[0m\u001b[1;33m(\u001b[0m\u001b[0ma\u001b[0m\u001b[1;33m[\u001b[0m\u001b[1;36m0\u001b[0m\u001b[1;33m:\u001b[0m\u001b[1;36m5\u001b[0m\u001b[1;33m:\u001b[0m\u001b[1;36m2\u001b[0m\u001b[1;33m]\u001b[0m\u001b[1;33m+\u001b[0m\u001b[0ma\u001b[0m\u001b[1;33m[\u001b[0m\u001b[0ma\u001b[0m\u001b[1;33m.\u001b[0m\u001b[0mindex\u001b[0m\u001b[1;33m(\u001b[0m\u001b[1;34m'n'\u001b[0m\u001b[1;33m)\u001b[0m\u001b[1;33m]\u001b[0m\u001b[1;33m)\u001b[0m\u001b[1;33m\u001b[0m\u001b[1;33m\u001b[0m\u001b[0m\n\u001b[0m",
      "\u001b[1;31mValueError\u001b[0m: 'n' is not in list"
     ]
    }
   ],
   "source": [
    "print(a[0:5:2]+a[a.index('n')])"
   ]
  },
  {
   "cell_type": "markdown",
   "id": "97625d92",
   "metadata": {},
   "source": [
    "# Modify List values based on its index"
   ]
  },
  {
   "cell_type": "code",
   "execution_count": 57,
   "id": "9df9cc3a",
   "metadata": {},
   "outputs": [],
   "source": [
    "a = ['foo','bar','baz','qux','quux','corge','quux']\n",
    "a[a.index('qux')] = 20"
   ]
  },
  {
   "cell_type": "code",
   "execution_count": 58,
   "id": "4dbeda40",
   "metadata": {},
   "outputs": [
    {
     "name": "stdout",
     "output_type": "stream",
     "text": [
      "['foo', 'bar', 'baz', 20, 'corge', 'quux']\n"
     ]
    }
   ],
   "source": [
    "# del command\n",
    "del a[a.index('quux')]\n",
    "print(a)"
   ]
  },
  {
   "cell_type": "code",
   "execution_count": 59,
   "id": "d2d8b589",
   "metadata": {},
   "outputs": [
    {
     "name": "stdout",
     "output_type": "stream",
     "text": [
      "['foo', 'bar', 'baz', 20, 'corge', 'quux']\n"
     ]
    }
   ],
   "source": [
    "print(a)"
   ]
  },
  {
   "cell_type": "code",
   "execution_count": 60,
   "id": "286093eb",
   "metadata": {},
   "outputs": [
    {
     "name": "stdout",
     "output_type": "stream",
     "text": [
      "[1, 2, 3, 'qux', 'quux', 'corge', 'quux']\n"
     ]
    }
   ],
   "source": [
    "a = ['foo','bar','baz','qux','quux','corge','quux']\n",
    "a[0:3] = [1,2,3]\n",
    "print(a)"
   ]
  },
  {
   "cell_type": "markdown",
   "id": "cc366f3d",
   "metadata": {},
   "source": [
    "# Tuple"
   ]
  },
  {
   "cell_type": "code",
   "execution_count": 61,
   "id": "185f978a",
   "metadata": {},
   "outputs": [
    {
     "name": "stdout",
     "output_type": "stream",
     "text": [
      "<class 'tuple'>\n"
     ]
    }
   ],
   "source": [
    "t = ('foo','bar','baz','qux','quux','corge','quux')\n",
    "print(type(t))"
   ]
  },
  {
   "cell_type": "markdown",
   "id": "73952ae2",
   "metadata": {},
   "source": [
    "# Dictionary"
   ]
  },
  {
   "cell_type": "code",
   "execution_count": 66,
   "id": "41062359",
   "metadata": {},
   "outputs": [],
   "source": [
    "MLB_team = {\n",
    "    'Colorado':'Rockies',\n",
    "    'Boston':'Red Sox',\n",
    "    'Minnesota':'Twins',\n",
    "    'Milwaukee':'Brewers',\n",
    "    'Seattle':'Mariners'\n",
    "}"
   ]
  },
  {
   "cell_type": "code",
   "execution_count": 67,
   "id": "a974bdf4",
   "metadata": {},
   "outputs": [
    {
     "name": "stdout",
     "output_type": "stream",
     "text": [
      "Rockies\n",
      "Red Sox\n"
     ]
    }
   ],
   "source": [
    "print(MLB_team['Colorado'])\n",
    "print(MLB_team['Boston'])"
   ]
  },
  {
   "cell_type": "code",
   "execution_count": 68,
   "id": "ad1330f0",
   "metadata": {},
   "outputs": [
    {
     "name": "stdout",
     "output_type": "stream",
     "text": [
      "{'Colorado': 'Rockies', 'Boston': 'Red Sox', 'Minnesota': 'Twins', 'Milwaukee': 'Brewers', 'Seattle': 'Mariners', 'Kansas City': 'Royals'}\n"
     ]
    }
   ],
   "source": [
    "# Assign Kota Baru\n",
    "MLB_team['Kansas City'] = 'Royals'\n",
    "print(MLB_team)"
   ]
  },
  {
   "cell_type": "code",
   "execution_count": 69,
   "id": "4749a957",
   "metadata": {},
   "outputs": [
    {
     "name": "stdout",
     "output_type": "stream",
     "text": [
      "{'Colorado': 'Rockies', 'Boston': 'Red Sox', 'Minnesota': 'Twins', 'Milwaukee': 'Brewers', 'Seattle': 'Seahawks', 'Kansas City': 'Royals'}\n"
     ]
    }
   ],
   "source": [
    "#Update Tim Kota\n",
    "MLB_team['Seattle'] = 'Seahawks'\n",
    "print(MLB_team)"
   ]
  },
  {
   "cell_type": "code",
   "execution_count": 70,
   "id": "c03e281e",
   "metadata": {},
   "outputs": [
    {
     "name": "stdout",
     "output_type": "stream",
     "text": [
      "{'Boston': 'Red Sox', 'Minnesota': 'Twins', 'Milwaukee': 'Brewers', 'Seattle': 'Seahawks', 'Kansas City': 'Royals'}\n"
     ]
    }
   ],
   "source": [
    "# del command\n",
    "del MLB_team['Colorado']\n",
    "print(MLB_team)"
   ]
  },
  {
   "cell_type": "code",
   "execution_count": 71,
   "id": "68527b71",
   "metadata": {},
   "outputs": [
    {
     "name": "stdout",
     "output_type": "stream",
     "text": [
      "<class 'dict'>\n"
     ]
    }
   ],
   "source": [
    "orang = {}\n",
    "print(type(orang))"
   ]
  },
  {
   "cell_type": "code",
   "execution_count": 72,
   "id": "ff97538e",
   "metadata": {},
   "outputs": [
    {
     "data": {
      "text/plain": [
       "{'Nama': 'Budi',\n",
       " 'Kota': 'Solo',\n",
       " 'Umur': 32,\n",
       " 'Anak': ['Budi', 'Sarah', 'Syifa'],\n",
       " 'Kendaraan': {'mobil': 'Innova', 'motor': 'mio'}}"
      ]
     },
     "execution_count": 72,
     "metadata": {},
     "output_type": "execute_result"
    }
   ],
   "source": [
    "orang['Nama'] = 'Budi'\n",
    "orang['Kota'] = 'Solo'\n",
    "orang['Umur'] = 32\n",
    "orang['Anak'] = ['Budi','Sarah','Syifa']\n",
    "orang['Kendaraan'] ={'mobil':'Innova','motor':'mio'}\n",
    "orang\n"
   ]
  },
  {
   "cell_type": "code",
   "execution_count": 73,
   "id": "ee3d1f70",
   "metadata": {},
   "outputs": [
    {
     "name": "stdout",
     "output_type": "stream",
     "text": [
      "mio\n"
     ]
    }
   ],
   "source": [
    "print(orang['Kendaraan']['motor'])"
   ]
  },
  {
   "cell_type": "code",
   "execution_count": 74,
   "id": "809b3ec7",
   "metadata": {},
   "outputs": [
    {
     "name": "stdout",
     "output_type": "stream",
     "text": [
      "['Budi', 'Sarah']\n"
     ]
    }
   ],
   "source": [
    "print(orang['Anak'][0:2])"
   ]
  },
  {
   "cell_type": "markdown",
   "id": "297d5563",
   "metadata": {},
   "source": [
    "# Line Continuation"
   ]
  },
  {
   "cell_type": "code",
   "execution_count": 75,
   "id": "bfce2c6b",
   "metadata": {},
   "outputs": [
    {
     "name": "stdout",
     "output_type": "stream",
     "text": [
      "True\n",
      "False\n",
      "True\n",
      "True\n",
      "False\n",
      "False\n"
     ]
    }
   ],
   "source": [
    "print(True and True)\n",
    "print(True and False)\n",
    "print(True or True)\n",
    "print(True or False)\n",
    "print(False and False)\n",
    "print(False or False)"
   ]
  },
  {
   "cell_type": "code",
   "execution_count": 76,
   "id": "bb70ddf0",
   "metadata": {},
   "outputs": [
    {
     "name": "stdout",
     "output_type": "stream",
     "text": [
      "True\n",
      "False\n",
      "False\n"
     ]
    }
   ],
   "source": [
    "umur1 = 42\n",
    "umur2 = 16\n",
    "umur3=71\n",
    "\n",
    "print(umur1>=18 and umur1<=65)\n",
    "print(umur2>=18 and umur2<=65)\n",
    "print(umur3>=18 and umur3<=65)"
   ]
  },
  {
   "cell_type": "code",
   "execution_count": 77,
   "id": "850cf38a",
   "metadata": {},
   "outputs": [
    {
     "name": "stdout",
     "output_type": "stream",
     "text": [
      "True\n"
     ]
    }
   ],
   "source": [
    "print((umur1>=18 and umur1<=65) or (umur2>=18 and umur2<=65) or (umur3>=18 and umur3<=65))"
   ]
  },
  {
   "cell_type": "markdown",
   "id": "f95b2413",
   "metadata": {},
   "source": [
    "# Materi Tambahan"
   ]
  },
  {
   "cell_type": "code",
   "execution_count": 78,
   "id": "7d4a45a7",
   "metadata": {},
   "outputs": [
    {
     "name": "stdout",
     "output_type": "stream",
     "text": [
      "['Toyota', 'Kijang', 'Isuzu']\n"
     ]
    }
   ],
   "source": [
    "mobil = ['Toyota','Kijang']\n",
    "mobil = mobil + ['Isuzu']\n",
    "print(mobil)"
   ]
  },
  {
   "cell_type": "code",
   "execution_count": 79,
   "id": "6d586f4c",
   "metadata": {},
   "outputs": [
    {
     "name": "stdout",
     "output_type": "stream",
     "text": [
      "['Toyota', 'Kijang', 'Isuzu']\n"
     ]
    }
   ],
   "source": [
    "mobil = ['Toyota','Kijang']\n",
    "mobil.append('Isuzu')\n",
    "print(mobil)"
   ]
  },
  {
   "cell_type": "code",
   "execution_count": 80,
   "id": "5b0fa86b",
   "metadata": {},
   "outputs": [
    {
     "name": "stdout",
     "output_type": "stream",
     "text": [
      "['Toyota', 'Kijang', 'Isuzu']\n"
     ]
    }
   ],
   "source": [
    "kendaraan = mobil.copy()\n",
    "print(kendaraan)"
   ]
  },
  {
   "cell_type": "code",
   "execution_count": 81,
   "id": "8ccc212b",
   "metadata": {},
   "outputs": [
    {
     "name": "stdout",
     "output_type": "stream",
     "text": [
      "['Toyota', 'Kijang', 'Isuzu', 'Innova', 'Innova']\n",
      "['Toyota', 'Kijang', 'Isuzu']\n"
     ]
    }
   ],
   "source": [
    "kendaraan.append('Innova')\n",
    "kendaraan.append('Innova')\n",
    "\n",
    "print(kendaraan)\n",
    "print(mobil)"
   ]
  },
  {
   "cell_type": "code",
   "execution_count": 82,
   "id": "8c953300",
   "metadata": {},
   "outputs": [
    {
     "name": "stdout",
     "output_type": "stream",
     "text": [
      "['Toyota', 'Kijang', 'Isuzu', 'Innova', 'Innova']\n"
     ]
    }
   ],
   "source": [
    "print(kendaraan)"
   ]
  },
  {
   "cell_type": "code",
   "execution_count": 83,
   "id": "2aa90433",
   "metadata": {},
   "outputs": [],
   "source": [
    "kendaraan.remove('Innova')\n"
   ]
  },
  {
   "cell_type": "code",
   "execution_count": null,
   "id": "893d5bfe",
   "metadata": {},
   "outputs": [],
   "source": []
  }
 ],
 "metadata": {
  "kernelspec": {
   "display_name": "Python 3 (ipykernel)",
   "language": "python",
   "name": "python3"
  },
  "language_info": {
   "codemirror_mode": {
    "name": "ipython",
    "version": 3
   },
   "file_extension": ".py",
   "mimetype": "text/x-python",
   "name": "python",
   "nbconvert_exporter": "python",
   "pygments_lexer": "ipython3",
   "version": "3.9.13"
  }
 },
 "nbformat": 4,
 "nbformat_minor": 5
}
